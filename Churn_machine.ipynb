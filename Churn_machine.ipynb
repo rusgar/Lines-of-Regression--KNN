{
 "cells": [
  {
   "cell_type": "markdown",
   "id": "20e4b7e7",
   "metadata": {},
   "source": [
    "#  Un nuevo modelo - K-Nearest Neighbors 💨🤯 \n"
   ]
  },
  {
   "cell_type": "markdown",
   "id": "19f15996",
   "metadata": {},
   "source": [
    " [K-Nearest Neighbors (or KNN)](https://scikit-learn.org/0.24/modules/generated/sklearn.neighbors.KNeighborsClassifier.html) es un modelo basado en la distancia que se puede usar tanto para la regresión (predecir un número) como para la clasificación (predecir una categoría).\"\n",
    "]"
   ]
  },
  {
   "cell_type": "markdown",
   "id": "523781b5",
   "metadata": {},
   "source": [
    "**¿Y la mejor parte?** ¡Los pasos son exactamente los mismos para el modelo KNN que para la regresión lineal 😎😎"
   ]
  },
  {
   "cell_type": "markdown",
   "id": "18eaab53",
   "metadata": {},
   "source": [
    " 1. Comenzemos por importar  las bibliotecas de Python necesarias."
   ]
  },
  {
   "cell_type": "code",
   "execution_count": 118,
   "id": "7c86b9da",
   "metadata": {},
   "outputs": [],
   "source": [
    "import pandas as pd\n",
    "import numpy as np\n",
    "import seaborn as sns"
   ]
  },
  {
   "cell_type": "markdown",
   "id": "c2f0a631",
   "metadata": {},
   "source": [
    "Pongamos y leamos los datos de **CSV** en un  DataFrame"
   ]
  },
  {
   "cell_type": "code",
   "execution_count": 119,
   "id": "0ba5945f",
   "metadata": {},
   "outputs": [
    {
     "data": {
      "text/html": [
       "<div>\n",
       "<style scoped>\n",
       "    .dataframe tbody tr th:only-of-type {\n",
       "        vertical-align: middle;\n",
       "    }\n",
       "\n",
       "    .dataframe tbody tr th {\n",
       "        vertical-align: top;\n",
       "    }\n",
       "\n",
       "    .dataframe thead th {\n",
       "        text-align: right;\n",
       "    }\n",
       "</style>\n",
       "<table border=\"1\" class=\"dataframe\">\n",
       "  <thead>\n",
       "    <tr style=\"text-align: right;\">\n",
       "      <th></th>\n",
       "      <th>CreditScore</th>\n",
       "      <th>Gender</th>\n",
       "      <th>Age</th>\n",
       "      <th>Tenure</th>\n",
       "      <th>Balance</th>\n",
       "      <th>NumOfProducts</th>\n",
       "      <th>HasCrCard</th>\n",
       "      <th>IsActiveMember</th>\n",
       "      <th>EstimatedSalary</th>\n",
       "      <th>Exited</th>\n",
       "    </tr>\n",
       "  </thead>\n",
       "  <tbody>\n",
       "    <tr>\n",
       "      <th>0</th>\n",
       "      <td>608</td>\n",
       "      <td>1</td>\n",
       "      <td>41</td>\n",
       "      <td>1</td>\n",
       "      <td>83807.86</td>\n",
       "      <td>1</td>\n",
       "      <td>0</td>\n",
       "      <td>1</td>\n",
       "      <td>112542.58</td>\n",
       "      <td>0</td>\n",
       "    </tr>\n",
       "    <tr>\n",
       "      <th>1</th>\n",
       "      <td>502</td>\n",
       "      <td>1</td>\n",
       "      <td>42</td>\n",
       "      <td>8</td>\n",
       "      <td>159660.80</td>\n",
       "      <td>3</td>\n",
       "      <td>1</td>\n",
       "      <td>0</td>\n",
       "      <td>113931.57</td>\n",
       "      <td>1</td>\n",
       "    </tr>\n",
       "    <tr>\n",
       "      <th>2</th>\n",
       "      <td>850</td>\n",
       "      <td>1</td>\n",
       "      <td>43</td>\n",
       "      <td>2</td>\n",
       "      <td>125510.82</td>\n",
       "      <td>1</td>\n",
       "      <td>1</td>\n",
       "      <td>1</td>\n",
       "      <td>79084.10</td>\n",
       "      <td>0</td>\n",
       "    </tr>\n",
       "    <tr>\n",
       "      <th>3</th>\n",
       "      <td>645</td>\n",
       "      <td>0</td>\n",
       "      <td>44</td>\n",
       "      <td>8</td>\n",
       "      <td>113755.78</td>\n",
       "      <td>2</td>\n",
       "      <td>1</td>\n",
       "      <td>0</td>\n",
       "      <td>149756.71</td>\n",
       "      <td>1</td>\n",
       "    </tr>\n",
       "    <tr>\n",
       "      <th>4</th>\n",
       "      <td>376</td>\n",
       "      <td>1</td>\n",
       "      <td>29</td>\n",
       "      <td>4</td>\n",
       "      <td>115046.74</td>\n",
       "      <td>4</td>\n",
       "      <td>1</td>\n",
       "      <td>0</td>\n",
       "      <td>119346.88</td>\n",
       "      <td>1</td>\n",
       "    </tr>\n",
       "  </tbody>\n",
       "</table>\n",
       "</div>"
      ],
      "text/plain": [
       "   CreditScore  Gender  Age  Tenure    Balance  NumOfProducts  HasCrCard  \\\n",
       "0          608       1   41       1   83807.86              1          0   \n",
       "1          502       1   42       8  159660.80              3          1   \n",
       "2          850       1   43       2  125510.82              1          1   \n",
       "3          645       0   44       8  113755.78              2          1   \n",
       "4          376       1   29       4  115046.74              4          1   \n",
       "\n",
       "   IsActiveMember  EstimatedSalary  Exited  \n",
       "0               1        112542.58       0  \n",
       "1               0        113931.57       1  \n",
       "2               1         79084.10       0  \n",
       "3               0        149756.71       1  \n",
       "4               0        119346.88       1  "
      ]
     },
     "execution_count": 119,
     "metadata": {},
     "output_type": "execute_result"
    }
   ],
   "source": [
    "churn = pd.read_csv('datos/churn.csv')\n",
    "churn.head()"
   ]
  },
  {
   "cell_type": "code",
   "execution_count": 120,
   "id": "890ea271",
   "metadata": {},
   "outputs": [],
   "source": [
    "from sklearn.neighbors import KNeighborsClassifier # Importamos el modelo de Scikit-learn:"
   ]
  },
  {
   "cell_type": "markdown",
   "id": "77c5b96b",
   "metadata": {},
   "source": [
    "Inicializamos el modelo y eligimos una cantidad de **n_neighbors** para compararlos:"
   ]
  },
  {
   "cell_type": "code",
   "execution_count": 121,
   "id": "0898ea00",
   "metadata": {},
   "outputs": [],
   "source": [
    "model = KNeighborsClassifier(n_neighbors=3)"
   ]
  },
  {
   "cell_type": "markdown",
   "id": "1791d357",
   "metadata": {},
   "source": [
    "Creamos nuestras `entradas` y `salidas`. Llamandolos `x` e `y`:"
   ]
  },
  {
   "cell_type": "code",
   "execution_count": 122,
   "id": "0af253ef",
   "metadata": {},
   "outputs": [],
   "source": [
    "x = churn.drop([\"Exited\"], axis=\"columns\") # dejando la columna de salida para crear las entradas (características)\n",
    "y = churn[\"Exited\"]"
   ]
  },
  {
   "cell_type": "markdown",
   "id": "f933c108",
   "metadata": {},
   "source": [
    "Revisamos la  **x**  e **y** a continuación 👇"
   ]
  },
  {
   "cell_type": "code",
   "execution_count": 123,
   "id": "397205ed",
   "metadata": {},
   "outputs": [
    {
     "data": {
      "text/html": [
       "<div>\n",
       "<style scoped>\n",
       "    .dataframe tbody tr th:only-of-type {\n",
       "        vertical-align: middle;\n",
       "    }\n",
       "\n",
       "    .dataframe tbody tr th {\n",
       "        vertical-align: top;\n",
       "    }\n",
       "\n",
       "    .dataframe thead th {\n",
       "        text-align: right;\n",
       "    }\n",
       "</style>\n",
       "<table border=\"1\" class=\"dataframe\">\n",
       "  <thead>\n",
       "    <tr style=\"text-align: right;\">\n",
       "      <th></th>\n",
       "      <th>CreditScore</th>\n",
       "      <th>Gender</th>\n",
       "      <th>Age</th>\n",
       "      <th>Tenure</th>\n",
       "      <th>Balance</th>\n",
       "      <th>NumOfProducts</th>\n",
       "      <th>HasCrCard</th>\n",
       "      <th>IsActiveMember</th>\n",
       "      <th>EstimatedSalary</th>\n",
       "    </tr>\n",
       "  </thead>\n",
       "  <tbody>\n",
       "    <tr>\n",
       "      <th>0</th>\n",
       "      <td>608</td>\n",
       "      <td>1</td>\n",
       "      <td>41</td>\n",
       "      <td>1</td>\n",
       "      <td>83807.86</td>\n",
       "      <td>1</td>\n",
       "      <td>0</td>\n",
       "      <td>1</td>\n",
       "      <td>112542.58</td>\n",
       "    </tr>\n",
       "    <tr>\n",
       "      <th>1</th>\n",
       "      <td>502</td>\n",
       "      <td>1</td>\n",
       "      <td>42</td>\n",
       "      <td>8</td>\n",
       "      <td>159660.80</td>\n",
       "      <td>3</td>\n",
       "      <td>1</td>\n",
       "      <td>0</td>\n",
       "      <td>113931.57</td>\n",
       "    </tr>\n",
       "    <tr>\n",
       "      <th>2</th>\n",
       "      <td>850</td>\n",
       "      <td>1</td>\n",
       "      <td>43</td>\n",
       "      <td>2</td>\n",
       "      <td>125510.82</td>\n",
       "      <td>1</td>\n",
       "      <td>1</td>\n",
       "      <td>1</td>\n",
       "      <td>79084.10</td>\n",
       "    </tr>\n",
       "    <tr>\n",
       "      <th>3</th>\n",
       "      <td>645</td>\n",
       "      <td>0</td>\n",
       "      <td>44</td>\n",
       "      <td>8</td>\n",
       "      <td>113755.78</td>\n",
       "      <td>2</td>\n",
       "      <td>1</td>\n",
       "      <td>0</td>\n",
       "      <td>149756.71</td>\n",
       "    </tr>\n",
       "    <tr>\n",
       "      <th>4</th>\n",
       "      <td>376</td>\n",
       "      <td>1</td>\n",
       "      <td>29</td>\n",
       "      <td>4</td>\n",
       "      <td>115046.74</td>\n",
       "      <td>4</td>\n",
       "      <td>1</td>\n",
       "      <td>0</td>\n",
       "      <td>119346.88</td>\n",
       "    </tr>\n",
       "    <tr>\n",
       "      <th>...</th>\n",
       "      <td>...</td>\n",
       "      <td>...</td>\n",
       "      <td>...</td>\n",
       "      <td>...</td>\n",
       "      <td>...</td>\n",
       "      <td>...</td>\n",
       "      <td>...</td>\n",
       "      <td>...</td>\n",
       "      <td>...</td>\n",
       "    </tr>\n",
       "    <tr>\n",
       "      <th>6378</th>\n",
       "      <td>597</td>\n",
       "      <td>1</td>\n",
       "      <td>53</td>\n",
       "      <td>4</td>\n",
       "      <td>88381.21</td>\n",
       "      <td>1</td>\n",
       "      <td>1</td>\n",
       "      <td>0</td>\n",
       "      <td>69384.71</td>\n",
       "    </tr>\n",
       "    <tr>\n",
       "      <th>6379</th>\n",
       "      <td>644</td>\n",
       "      <td>0</td>\n",
       "      <td>28</td>\n",
       "      <td>7</td>\n",
       "      <td>155060.41</td>\n",
       "      <td>1</td>\n",
       "      <td>1</td>\n",
       "      <td>0</td>\n",
       "      <td>29179.52</td>\n",
       "    </tr>\n",
       "    <tr>\n",
       "      <th>6380</th>\n",
       "      <td>516</td>\n",
       "      <td>0</td>\n",
       "      <td>35</td>\n",
       "      <td>10</td>\n",
       "      <td>57369.61</td>\n",
       "      <td>1</td>\n",
       "      <td>1</td>\n",
       "      <td>1</td>\n",
       "      <td>101699.77</td>\n",
       "    </tr>\n",
       "    <tr>\n",
       "      <th>6381</th>\n",
       "      <td>772</td>\n",
       "      <td>0</td>\n",
       "      <td>42</td>\n",
       "      <td>3</td>\n",
       "      <td>75075.31</td>\n",
       "      <td>2</td>\n",
       "      <td>1</td>\n",
       "      <td>0</td>\n",
       "      <td>92888.52</td>\n",
       "    </tr>\n",
       "    <tr>\n",
       "      <th>6382</th>\n",
       "      <td>792</td>\n",
       "      <td>1</td>\n",
       "      <td>28</td>\n",
       "      <td>4</td>\n",
       "      <td>130142.79</td>\n",
       "      <td>1</td>\n",
       "      <td>1</td>\n",
       "      <td>0</td>\n",
       "      <td>38190.78</td>\n",
       "    </tr>\n",
       "  </tbody>\n",
       "</table>\n",
       "<p>6383 rows × 9 columns</p>\n",
       "</div>"
      ],
      "text/plain": [
       "      CreditScore  Gender  Age  Tenure    Balance  NumOfProducts  HasCrCard  \\\n",
       "0             608       1   41       1   83807.86              1          0   \n",
       "1             502       1   42       8  159660.80              3          1   \n",
       "2             850       1   43       2  125510.82              1          1   \n",
       "3             645       0   44       8  113755.78              2          1   \n",
       "4             376       1   29       4  115046.74              4          1   \n",
       "...           ...     ...  ...     ...        ...            ...        ...   \n",
       "6378          597       1   53       4   88381.21              1          1   \n",
       "6379          644       0   28       7  155060.41              1          1   \n",
       "6380          516       0   35      10   57369.61              1          1   \n",
       "6381          772       0   42       3   75075.31              2          1   \n",
       "6382          792       1   28       4  130142.79              1          1   \n",
       "\n",
       "      IsActiveMember  EstimatedSalary  \n",
       "0                  1        112542.58  \n",
       "1                  0        113931.57  \n",
       "2                  1         79084.10  \n",
       "3                  0        149756.71  \n",
       "4                  0        119346.88  \n",
       "...              ...              ...  \n",
       "6378               0         69384.71  \n",
       "6379               0         29179.52  \n",
       "6380               1        101699.77  \n",
       "6381               0         92888.52  \n",
       "6382               0         38190.78  \n",
       "\n",
       "[6383 rows x 9 columns]"
      ]
     },
     "execution_count": 123,
     "metadata": {},
     "output_type": "execute_result"
    }
   ],
   "source": [
    "x"
   ]
  },
  {
   "cell_type": "code",
   "execution_count": 124,
   "id": "ee5a8953",
   "metadata": {},
   "outputs": [
    {
     "data": {
      "text/plain": [
       "0       0\n",
       "1       1\n",
       "2       0\n",
       "3       1\n",
       "4       1\n",
       "       ..\n",
       "6378    1\n",
       "6379    0\n",
       "6380    0\n",
       "6381    1\n",
       "6382    0\n",
       "Name: Exited, Length: 6383, dtype: int64"
      ]
     },
     "execution_count": 124,
     "metadata": {},
     "output_type": "execute_result"
    }
   ],
   "source": [
    "y"
   ]
  },
  {
   "cell_type": "markdown",
   "id": "7d488a87",
   "metadata": {},
   "source": [
    "💡Consejo: intente ajustar el número  - n_neighbors - arriba hasta que obtenga el mejor resultado."
   ]
  },
  {
   "cell_type": "code",
   "execution_count": 125,
   "id": "c27dc443",
   "metadata": {},
   "outputs": [
    {
     "data": {
      "text/plain": [
       "KNeighborsClassifier(n_neighbors=3)"
      ]
     },
     "execution_count": 125,
     "metadata": {},
     "output_type": "execute_result"
    }
   ],
   "source": [
    "model.fit(x,y) # Modelo de entrenamiento"
   ]
  },
  {
   "cell_type": "code",
   "execution_count": 126,
   "id": "8bfc589d",
   "metadata": {},
   "outputs": [
    {
     "data": {
      "text/plain": [
       "0.8171706094313019"
      ]
     },
     "execution_count": 126,
     "metadata": {},
     "output_type": "execute_result"
    }
   ],
   "source": [
    "model.score(x,y) # resultado del modelo de entrenamiento"
   ]
  },
  {
   "cell_type": "markdown",
   "id": "d5dbda5b",
   "metadata": {},
   "source": [
    "Esta métrica de puntuación de tiempo es la precisión: cuántas predicciones acertó el modelo en nuestro conjunto de datos.\n",
    "\n"
   ]
  },
  {
   "cell_type": "markdown",
   "id": "4baaa720",
   "metadata": {},
   "source": [
    "¿Cómo es tu puntuación? Bastante genial para pocas lineas de codigo, ¿verdad? 🤩Bueno..."
   ]
  },
  {
   "cell_type": "markdown",
   "id": "aa6bc1dd",
   "metadata": {},
   "source": [
    "## ¡Hemos estado haciendo trampa! 😳"
   ]
  },
  {
   "cell_type": "markdown",
   "id": "206a0ebf",
   "metadata": {},
   "source": [
    "Hemos estado puntuando el modelo con los mismos datos con los que se entrenó, ¡demasiado fácil! Eso se llama fuga de datos(**data leakage**)."
   ]
  },
  {
   "cell_type": "markdown",
   "id": "352781a9",
   "metadata": {},
   "source": [
    "![title](Img/Data_Leakage.jpeg)"
   ]
  },
  {
   "cell_type": "markdown",
   "id": "5685633f",
   "metadata": {},
   "source": [
    "La biblioteca Scikit-learn nos salva de nuevo: importemos y usemos el [`train_test_split` metodo](https://scikit-learn.org/0.24/modules/generated/sklearn.model_selection.train_test_split.html)"
   ]
  },
  {
   "cell_type": "code",
   "execution_count": 127,
   "id": "23ba5037",
   "metadata": {},
   "outputs": [],
   "source": [
    "from sklearn.model_selection import train_test_split"
   ]
  },
  {
   "cell_type": "markdown",
   "id": "fc0ceab8",
   "metadata": {},
   "source": [
    "\n",
    "El método `train_test_split` nos brinda todos los conjuntos de datos que necesitamos: entradas y salidas tanto para entrenamiento como para prueba. Entonces creamos simultáneamente cuatro nuevas variables para almacenar eso."
   ]
  },
  {
   "cell_type": "code",
   "execution_count": 128,
   "id": "89b2fb72",
   "metadata": {},
   "outputs": [],
   "source": [
    "xtrain, xtest, ytrain, ytest = train_test_split(x, y, test_size=0.2)"
   ]
  },
  {
   "cell_type": "markdown",
   "id": "63d70437",
   "metadata": {},
   "source": [
    "\n",
    "###  ¡Esta vez sin trampas! 🚀\n",
    "\n",
    "Ahora que tenemos conjuntos de datos de entrenamiento y prueba, debe **iniciar** un nuevo modelo, **entrenar** y **puntuar** nuevamente con los conjuntos de datos correctos."
   ]
  },
  {
   "cell_type": "code",
   "execution_count": 129,
   "id": "6df07b97",
   "metadata": {},
   "outputs": [
    {
     "data": {
      "text/plain": [
       "0.6797180892717306"
      ]
     },
     "execution_count": 129,
     "metadata": {},
     "output_type": "execute_result"
    }
   ],
   "source": [
    "model = KNeighborsClassifier(n_neighbors=3)\n",
    "\n",
    "model.fit(xtrain, ytrain) # usando solo los datos de entrenamiento\n",
    "model.score(xtest, ytest) # usar datos de prueba no vistos para calificar"
   ]
  },
  {
   "cell_type": "markdown",
   "id": "6b0011b6",
   "metadata": {},
   "source": [
    "### ¡Predicción! 🚀\n",
    "\n",
    "La predicción también funciona exactamente como el modelo anterior, así que le permitimos hacerlo. Creamos un cliente de ejemplo que puede ajustar.\n",
    "\n",
    "*Nota: el orden de las características es:*\n",
    "\n",
    "`['CreditScore', 'Gender', 'Age', 'Tenure', 'Balance', 'NumOfProducts', 'HasCrCard', 'IsActiveMember', 'EstimatedSalary']`\n"
   ]
  },
  {
   "cell_type": "code",
   "execution_count": 130,
   "id": "840aecef",
   "metadata": {},
   "outputs": [],
   "source": [
    "customer = [[608.0, 1.0, 31.0, 20.0, 81207.86, 2.0, 1.0, 0.0, 111142.58]]\n"
   ]
  },
  {
   "cell_type": "code",
   "execution_count": 131,
   "id": "dd81eaaf",
   "metadata": {},
   "outputs": [
    {
     "data": {
      "text/plain": [
       "array([0], dtype=int64)"
      ]
     },
     "execution_count": 131,
     "metadata": {},
     "output_type": "execute_result"
    }
   ],
   "source": [
    "model.predict(customer)"
   ]
  },
  {
   "cell_type": "code",
   "execution_count": 132,
   "id": "78f426e6",
   "metadata": {},
   "outputs": [
    {
     "data": {
      "text/plain": [
       "array([[0.66666667, 0.33333333]])"
      ]
     },
     "execution_count": 132,
     "metadata": {},
     "output_type": "execute_result"
    }
   ],
   "source": [
    "model.predict_proba(customer)"
   ]
  },
  {
   "cell_type": "markdown",
   "id": "d8406f50",
   "metadata": {},
   "source": [
    "\n",
    "### ¿Explicabilidad? Ya más duro con el modelo KNN 😓"
   ]
  },
  {
   "cell_type": "markdown",
   "id": "d85d02ad",
   "metadata": {},
   "source": [
    "Necesitamos usar un método [feature permutation](https://scikit-learn.org/0.24/modules/generated/sklearn.inspection.permutation_importance.html) proporcionado por `Scikit-learn`.\n",
    "\n",
    "Este método ejecuta la puntuación del modelo muchas veces, cambiando (*permutando*) una característica a la vez, para ver cuál causa el mayor cambio en el objetivo."
   ]
  },
  {
   "cell_type": "code",
   "execution_count": 133,
   "id": "156693f9",
   "metadata": {},
   "outputs": [
    {
     "data": {
      "text/plain": [
       "array([['CreditScore', 0.0004308656482569062],\n",
       "       ['Gender', 0.0],\n",
       "       ['Age', 0.0],\n",
       "       ['Tenure', 0.0],\n",
       "       ['Balance', 0.13699569134351738],\n",
       "       ['NumOfProducts', 0.0],\n",
       "       ['HasCrCard', 0.0],\n",
       "       ['IsActiveMember', 0.0],\n",
       "       ['EstimatedSalary', 0.13180571876224043]], dtype=object)"
      ]
     },
     "execution_count": 133,
     "metadata": {},
     "output_type": "execute_result"
    }
   ],
   "source": [
    "from sklearn.inspection import permutation_importance\n",
    "\n",
    "permutation_score = permutation_importance(model, xtrain, ytrain, n_repeats=10)\n",
    "\n",
    "np.vstack((x.columns, permutation_score.importances_mean)).T"
   ]
  },
  {
   "cell_type": "markdown",
   "id": "f80185d1",
   "metadata": {},
   "source": [
    "\n",
    "# ¡Felicitaciones por sus primeros modelos de ML, héroes!   ‍🦸‍♀️🦸‍♂️"
   ]
  },
  {
   "cell_type": "markdown",
   "id": "275c52f3",
   "metadata": {},
   "source": [
    "Siempre es una buena idea hacer algo de exploración visual primero.🤨😶‍🌫️"
   ]
  },
  {
   "cell_type": "markdown",
   "id": "ba9678e1",
   "metadata": {},
   "source": [
    "En este caso, nos importa si el cliente `salió` o **abandonó**. Así que podemos intentar trazar las diferentes características (entradas) manteniendo la `salida` como el diferenciador de color (matiz)."
   ]
  },
  {
   "cell_type": "code",
   "execution_count": 134,
   "id": "99663f6f",
   "metadata": {},
   "outputs": [
    {
     "data": {
      "text/plain": [
       "<AxesSubplot:xlabel='CreditScore', ylabel='Balance'>"
      ]
     },
     "execution_count": 134,
     "metadata": {},
     "output_type": "execute_result"
    },
    {
     "data": {
      "image/png": "[encoded data removed]",
      "text/plain": [
       "<Figure size 432x288 with 1 Axes>"
      ]
     },
     "metadata": {
      "needs_background": "light"
     },
     "output_type": "display_data"
    }
   ],
   "source": [
    "sns.scatterplot(data=churn, x='CreditScore', y='Balance', hue='Exited')"
   ]
  },
  {
   "cell_type": "markdown",
   "id": "5be24cf0",
   "metadata": {},
   "source": [
    "## 🕵️‍♀️ ¿Vas más allá? (Desafío opcional) ¡KNN solo en columnas categóricas!"
   ]
  },
  {
   "cell_type": "markdown",
   "id": "801fb512",
   "metadata": {},
   "source": [
    "Probablemente haya notado que las **columnas categóricas**, como `HasCrCard` o `NumOfProducts`, prácticamente no tienen influencia en el modelo anterior.\n",
    "\n",
    "Puede ser que sean fuertemente superados por las otras columnas, como 'Saldo' o 'Salario estimado'. Sería una buena idea **crear un nuevo modelo** *solo* para las columnas categóricas."
   ]
  },
  {
   "cell_type": "markdown",
   "id": "4f59a244",
   "metadata": {},
   "source": [
    "### Tu turno: ¡construye tu propio modelo! 🚀\n",
    "\n",
    "Cree un nuevo modelo KNN **desde cero** y repita los pasos hasta llegar a la predicción, pero esta vez **solo en las columnas categóricas**. Los enumeramos a continuación:\n",
    "\n",
    "`['NumOfProducts', 'HasCrCard', 'IsActiveMember', 'Gender']`\n",
    "\n",
    "#### **💡Consejo:** ¡No seas tímido para reutilizar lo anterior y adaptarlo al desafío actual!"
   ]
  },
  {
   "cell_type": "markdown",
   "id": "993eb403",
   "metadata": {},
   "source": [
    "1. Cree nuestros conjuntos de datos `x` (inputs) e `y` (output)"
   ]
  },
  {
   "cell_type": "code",
   "execution_count": 44,
   "id": "64c9512f",
   "metadata": {},
   "outputs": [],
   "source": [
    "x = churn.drop(['CreditScore', 'Age', 'Tenure', 'Balance', 'EstimatedSalary'], axis='columns') # o en lugar de dropear columnas, también podemos seleccionar las que necesitamos:\n",
    "x = churn[['NumOfProducts', 'HasCrCard', 'IsActiveMember', 'Gender']]\n",
    "\n",
    "y = churn.Exited"
   ]
  },
  {
   "cell_type": "markdown",
   "id": "6db9eeb0",
   "metadata": {},
   "source": [
    "2. Dividir nuestros datos en datos de entrenamiento y prueba con `train_test_split` (*PD: no es necesario `importar` una segunda vez*)"
   ]
  },
  {
   "cell_type": "code",
   "execution_count": 20,
   "id": "e05feafc",
   "metadata": {},
   "outputs": [],
   "source": [
    "xtrain, xtest, ytrain, ytest = train_test_split(x, y, test_size=0.2)"
   ]
  },
  {
   "cell_type": "markdown",
   "id": "74f24213",
   "metadata": {},
   "source": [
    "3. Inicializar un modelo KNN. Elija la cantidad de  `n_neighbors` que desee 🙂"
   ]
  },
  {
   "cell_type": "code",
   "execution_count": 23,
   "id": "ebf62a9e",
   "metadata": {},
   "outputs": [],
   "source": [
    "classifier = KNeighborsClassifier(n_neighbors=5)"
   ]
  },
  {
   "cell_type": "code",
   "execution_count": 24,
   "id": "4dd939e4",
   "metadata": {},
   "outputs": [
    {
     "data": {
      "text/plain": [
       "KNeighborsClassifier()"
      ]
     },
     "execution_count": 24,
     "metadata": {},
     "output_type": "execute_result"
    }
   ],
   "source": [
    "classifier.fit(xtrain, ytrain)"
   ]
  },
  {
   "cell_type": "code",
   "execution_count": 26,
   "id": "fce43663",
   "metadata": {},
   "outputs": [],
   "source": [
    "customer = [[1, 1, 1, 1]]"
   ]
  },
  {
   "cell_type": "code",
   "execution_count": 28,
   "id": "4f97a6db",
   "metadata": {},
   "outputs": [
    {
     "data": {
      "text/plain": [
       "array([[1., 0.]])"
      ]
     },
     "execution_count": 28,
     "metadata": {},
     "output_type": "execute_result"
    }
   ],
   "source": [
    "classifier.predict(customer)# y en otra celda de código:\n",
    "  \n",
    "classifier.predict_proba(customer)"
   ]
  },
  {
   "cell_type": "code",
   "execution_count": 34,
   "id": "e440c6e4",
   "metadata": {},
   "outputs": [
    {
     "data": {
      "text/plain": [
       "array([['NumOfProducts', 0.05182138660399536],\n",
       "       ['HasCrCard', -0.00011750881316096029],\n",
       "       ['IsActiveMember', 0.007931844888366657],\n",
       "       ['Gender', 0.003916960438699613]], dtype=object)"
      ]
     },
     "execution_count": 34,
     "metadata": {},
     "output_type": "execute_result"
    }
   ],
   "source": [
    "permutation_score = permutation_importance(classifier, xtrain, ytrain, n_repeats=10)\n",
    "\n",
    "np.vstack((x.columns, permutation_score.importances_mean)).T"
   ]
  },
  {
   "cell_type": "code",
   "execution_count": 117,
   "id": "5db26192",
   "metadata": {},
   "outputs": [
    {
     "ename": "ValueError",
     "evalue": "Could not interpret value `NumOfProducts` for parameter `x`",
     "output_type": "error",
     "traceback": [
      "\u001b[1;31m---------------------------------------------------------------------------\u001b[0m",
      "\u001b[1;31mValueError\u001b[0m                                Traceback (most recent call last)",
      "\u001b[1;32m<ipython-input-117-84af976b0910>\u001b[0m in \u001b[0;36m<module>\u001b[1;34m\u001b[0m\n\u001b[1;32m----> 1\u001b[1;33m \u001b[0msns\u001b[0m\u001b[1;33m.\u001b[0m\u001b[0mscatterplot\u001b[0m\u001b[1;33m(\u001b[0m\u001b[0mdata\u001b[0m\u001b[1;33m=\u001b[0m\u001b[0mchurn\u001b[0m\u001b[1;33m,\u001b[0m \u001b[0mx\u001b[0m\u001b[1;33m=\u001b[0m\u001b[1;34m'NumOfProducts'\u001b[0m\u001b[1;33m,\u001b[0m \u001b[0my\u001b[0m\u001b[1;33m=\u001b[0m\u001b[1;34m'Balance'\u001b[0m\u001b[1;33m,\u001b[0m \u001b[0mhue\u001b[0m\u001b[1;33m=\u001b[0m\u001b[1;34m'Exited'\u001b[0m\u001b[1;33m)\u001b[0m\u001b[1;33m\u001b[0m\u001b[1;33m\u001b[0m\u001b[0m\n\u001b[0m",
      "\u001b[1;32mc:\\users\\propietario\\appdata\\local\\programs\\python\\python39\\lib\\site-packages\\seaborn\\_decorators.py\u001b[0m in \u001b[0;36minner_f\u001b[1;34m(*args, **kwargs)\u001b[0m\n\u001b[0;32m     44\u001b[0m             )\n\u001b[0;32m     45\u001b[0m         \u001b[0mkwargs\u001b[0m\u001b[1;33m.\u001b[0m\u001b[0mupdate\u001b[0m\u001b[1;33m(\u001b[0m\u001b[1;33m{\u001b[0m\u001b[0mk\u001b[0m\u001b[1;33m:\u001b[0m \u001b[0marg\u001b[0m \u001b[1;32mfor\u001b[0m \u001b[0mk\u001b[0m\u001b[1;33m,\u001b[0m \u001b[0marg\u001b[0m \u001b[1;32min\u001b[0m \u001b[0mzip\u001b[0m\u001b[1;33m(\u001b[0m\u001b[0msig\u001b[0m\u001b[1;33m.\u001b[0m\u001b[0mparameters\u001b[0m\u001b[1;33m,\u001b[0m \u001b[0margs\u001b[0m\u001b[1;33m)\u001b[0m\u001b[1;33m}\u001b[0m\u001b[1;33m)\u001b[0m\u001b[1;33m\u001b[0m\u001b[1;33m\u001b[0m\u001b[0m\n\u001b[1;32m---> 46\u001b[1;33m         \u001b[1;32mreturn\u001b[0m \u001b[0mf\u001b[0m\u001b[1;33m(\u001b[0m\u001b[1;33m**\u001b[0m\u001b[0mkwargs\u001b[0m\u001b[1;33m)\u001b[0m\u001b[1;33m\u001b[0m\u001b[1;33m\u001b[0m\u001b[0m\n\u001b[0m\u001b[0;32m     47\u001b[0m     \u001b[1;32mreturn\u001b[0m \u001b[0minner_f\u001b[0m\u001b[1;33m\u001b[0m\u001b[1;33m\u001b[0m\u001b[0m\n\u001b[0;32m     48\u001b[0m \u001b[1;33m\u001b[0m\u001b[0m\n",
      "\u001b[1;32mc:\\users\\propietario\\appdata\\local\\programs\\python\\python39\\lib\\site-packages\\seaborn\\relational.py\u001b[0m in \u001b[0;36mscatterplot\u001b[1;34m(x, y, hue, style, size, data, palette, hue_order, hue_norm, sizes, size_order, size_norm, markers, style_order, x_bins, y_bins, units, estimator, ci, n_boot, alpha, x_jitter, y_jitter, legend, ax, **kwargs)\u001b[0m\n\u001b[0;32m    806\u001b[0m \u001b[1;33m\u001b[0m\u001b[0m\n\u001b[0;32m    807\u001b[0m     \u001b[0mvariables\u001b[0m \u001b[1;33m=\u001b[0m \u001b[0m_ScatterPlotter\u001b[0m\u001b[1;33m.\u001b[0m\u001b[0mget_semantics\u001b[0m\u001b[1;33m(\u001b[0m\u001b[0mlocals\u001b[0m\u001b[1;33m(\u001b[0m\u001b[1;33m)\u001b[0m\u001b[1;33m)\u001b[0m\u001b[1;33m\u001b[0m\u001b[1;33m\u001b[0m\u001b[0m\n\u001b[1;32m--> 808\u001b[1;33m     p = _ScatterPlotter(\n\u001b[0m\u001b[0;32m    809\u001b[0m         \u001b[0mdata\u001b[0m\u001b[1;33m=\u001b[0m\u001b[0mdata\u001b[0m\u001b[1;33m,\u001b[0m \u001b[0mvariables\u001b[0m\u001b[1;33m=\u001b[0m\u001b[0mvariables\u001b[0m\u001b[1;33m,\u001b[0m\u001b[1;33m\u001b[0m\u001b[1;33m\u001b[0m\u001b[0m\n\u001b[0;32m    810\u001b[0m         \u001b[0mx_bins\u001b[0m\u001b[1;33m=\u001b[0m\u001b[0mx_bins\u001b[0m\u001b[1;33m,\u001b[0m \u001b[0my_bins\u001b[0m\u001b[1;33m=\u001b[0m\u001b[0my_bins\u001b[0m\u001b[1;33m,\u001b[0m\u001b[1;33m\u001b[0m\u001b[1;33m\u001b[0m\u001b[0m\n",
      "\u001b[1;32mc:\\users\\propietario\\appdata\\local\\programs\\python\\python39\\lib\\site-packages\\seaborn\\relational.py\u001b[0m in \u001b[0;36m__init__\u001b[1;34m(self, data, variables, x_bins, y_bins, estimator, ci, n_boot, alpha, x_jitter, y_jitter, legend)\u001b[0m\n\u001b[0;32m    585\u001b[0m         )\n\u001b[0;32m    586\u001b[0m \u001b[1;33m\u001b[0m\u001b[0m\n\u001b[1;32m--> 587\u001b[1;33m         \u001b[0msuper\u001b[0m\u001b[1;33m(\u001b[0m\u001b[1;33m)\u001b[0m\u001b[1;33m.\u001b[0m\u001b[0m__init__\u001b[0m\u001b[1;33m(\u001b[0m\u001b[0mdata\u001b[0m\u001b[1;33m=\u001b[0m\u001b[0mdata\u001b[0m\u001b[1;33m,\u001b[0m \u001b[0mvariables\u001b[0m\u001b[1;33m=\u001b[0m\u001b[0mvariables\u001b[0m\u001b[1;33m)\u001b[0m\u001b[1;33m\u001b[0m\u001b[1;33m\u001b[0m\u001b[0m\n\u001b[0m\u001b[0;32m    588\u001b[0m \u001b[1;33m\u001b[0m\u001b[0m\n\u001b[0;32m    589\u001b[0m         \u001b[0mself\u001b[0m\u001b[1;33m.\u001b[0m\u001b[0malpha\u001b[0m \u001b[1;33m=\u001b[0m \u001b[0malpha\u001b[0m\u001b[1;33m\u001b[0m\u001b[1;33m\u001b[0m\u001b[0m\n",
      "\u001b[1;32mc:\\users\\propietario\\appdata\\local\\programs\\python\\python39\\lib\\site-packages\\seaborn\\_core.py\u001b[0m in \u001b[0;36m__init__\u001b[1;34m(self, data, variables)\u001b[0m\n\u001b[0;32m    603\u001b[0m     \u001b[1;32mdef\u001b[0m \u001b[0m__init__\u001b[0m\u001b[1;33m(\u001b[0m\u001b[0mself\u001b[0m\u001b[1;33m,\u001b[0m \u001b[0mdata\u001b[0m\u001b[1;33m=\u001b[0m\u001b[1;32mNone\u001b[0m\u001b[1;33m,\u001b[0m \u001b[0mvariables\u001b[0m\u001b[1;33m=\u001b[0m\u001b[1;33m{\u001b[0m\u001b[1;33m}\u001b[0m\u001b[1;33m)\u001b[0m\u001b[1;33m:\u001b[0m\u001b[1;33m\u001b[0m\u001b[1;33m\u001b[0m\u001b[0m\n\u001b[0;32m    604\u001b[0m \u001b[1;33m\u001b[0m\u001b[0m\n\u001b[1;32m--> 605\u001b[1;33m         \u001b[0mself\u001b[0m\u001b[1;33m.\u001b[0m\u001b[0massign_variables\u001b[0m\u001b[1;33m(\u001b[0m\u001b[0mdata\u001b[0m\u001b[1;33m,\u001b[0m \u001b[0mvariables\u001b[0m\u001b[1;33m)\u001b[0m\u001b[1;33m\u001b[0m\u001b[1;33m\u001b[0m\u001b[0m\n\u001b[0m\u001b[0;32m    606\u001b[0m \u001b[1;33m\u001b[0m\u001b[0m\n\u001b[0;32m    607\u001b[0m         \u001b[1;32mfor\u001b[0m \u001b[0mvar\u001b[0m\u001b[1;33m,\u001b[0m \u001b[0mcls\u001b[0m \u001b[1;32min\u001b[0m \u001b[0mself\u001b[0m\u001b[1;33m.\u001b[0m\u001b[0m_semantic_mappings\u001b[0m\u001b[1;33m.\u001b[0m\u001b[0mitems\u001b[0m\u001b[1;33m(\u001b[0m\u001b[1;33m)\u001b[0m\u001b[1;33m:\u001b[0m\u001b[1;33m\u001b[0m\u001b[1;33m\u001b[0m\u001b[0m\n",
      "\u001b[1;32mc:\\users\\propietario\\appdata\\local\\programs\\python\\python39\\lib\\site-packages\\seaborn\\_core.py\u001b[0m in \u001b[0;36massign_variables\u001b[1;34m(self, data, variables)\u001b[0m\n\u001b[0;32m    666\u001b[0m         \u001b[1;32melse\u001b[0m\u001b[1;33m:\u001b[0m\u001b[1;33m\u001b[0m\u001b[1;33m\u001b[0m\u001b[0m\n\u001b[0;32m    667\u001b[0m             \u001b[0mself\u001b[0m\u001b[1;33m.\u001b[0m\u001b[0minput_format\u001b[0m \u001b[1;33m=\u001b[0m \u001b[1;34m\"long\"\u001b[0m\u001b[1;33m\u001b[0m\u001b[1;33m\u001b[0m\u001b[0m\n\u001b[1;32m--> 668\u001b[1;33m             plot_data, variables = self._assign_variables_longform(\n\u001b[0m\u001b[0;32m    669\u001b[0m                 \u001b[0mdata\u001b[0m\u001b[1;33m,\u001b[0m \u001b[1;33m**\u001b[0m\u001b[0mvariables\u001b[0m\u001b[1;33m,\u001b[0m\u001b[1;33m\u001b[0m\u001b[1;33m\u001b[0m\u001b[0m\n\u001b[0;32m    670\u001b[0m             )\n",
      "\u001b[1;32mc:\\users\\propietario\\appdata\\local\\programs\\python\\python39\\lib\\site-packages\\seaborn\\_core.py\u001b[0m in \u001b[0;36m_assign_variables_longform\u001b[1;34m(self, data, **kwargs)\u001b[0m\n\u001b[0;32m    901\u001b[0m \u001b[1;33m\u001b[0m\u001b[0m\n\u001b[0;32m    902\u001b[0m                 \u001b[0merr\u001b[0m \u001b[1;33m=\u001b[0m \u001b[1;34mf\"Could not interpret value `{val}` for parameter `{key}`\"\u001b[0m\u001b[1;33m\u001b[0m\u001b[1;33m\u001b[0m\u001b[0m\n\u001b[1;32m--> 903\u001b[1;33m                 \u001b[1;32mraise\u001b[0m \u001b[0mValueError\u001b[0m\u001b[1;33m(\u001b[0m\u001b[0merr\u001b[0m\u001b[1;33m)\u001b[0m\u001b[1;33m\u001b[0m\u001b[1;33m\u001b[0m\u001b[0m\n\u001b[0m\u001b[0;32m    904\u001b[0m \u001b[1;33m\u001b[0m\u001b[0m\n\u001b[0;32m    905\u001b[0m             \u001b[1;32melse\u001b[0m\u001b[1;33m:\u001b[0m\u001b[1;33m\u001b[0m\u001b[1;33m\u001b[0m\u001b[0m\n",
      "\u001b[1;31mValueError\u001b[0m: Could not interpret value `NumOfProducts` for parameter `x`"
     ]
    }
   ],
   "source": [
    "sns.scatterplot(data=churn, x='NumOfProducts', y='Balance', hue='Exited')"
   ]
  },
  {
   "cell_type": "code",
   "execution_count": null,
   "id": "3a97e888",
   "metadata": {},
   "outputs": [],
   "source": []
  }
 ],
 "metadata": {
  "kernelspec": {
   "display_name": "Python 3",
   "language": "python",
   "name": "python3"
  },
  "language_info": {
   "codemirror_mode": {
    "name": "ipython",
    "version": 3
   },
   "file_extension": ".py",
   "mimetype": "text/x-python",
   "name": "python",
   "nbconvert_exporter": "python",
   "pygments_lexer": "ipython3",
   "version": "3.9.2"
  }
 },
 "nbformat": 4,
 "nbformat_minor": 5
}
