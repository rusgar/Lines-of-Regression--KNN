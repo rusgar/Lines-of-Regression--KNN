{
 "cells": [
  {
   "cell_type": "code",
   "execution_count": 1,
   "id": "45d1bf65",
   "metadata": {},
   "outputs": [],
   "source": [
    "import pandas as pd\n",
    "import numpy as np\n",
    "import seaborn as sns\n"
   ]
  },
  {
   "cell_type": "code",
   "execution_count": 2,
   "id": "ba157ca6",
   "metadata": {},
   "outputs": [
    {
     "data": {
      "text/html": [
       "<div>\n",
       "<style scoped>\n",
       "    .dataframe tbody tr th:only-of-type {\n",
       "        vertical-align: middle;\n",
       "    }\n",
       "\n",
       "    .dataframe tbody tr th {\n",
       "        vertical-align: top;\n",
       "    }\n",
       "\n",
       "    .dataframe thead th {\n",
       "        text-align: right;\n",
       "    }\n",
       "</style>\n",
       "<table border=\"1\" class=\"dataframe\">\n",
       "  <thead>\n",
       "    <tr style=\"text-align: right;\">\n",
       "      <th></th>\n",
       "      <th>Gender</th>\n",
       "      <th>Age</th>\n",
       "      <th>Department</th>\n",
       "      <th>Department_code</th>\n",
       "      <th>Years_exp</th>\n",
       "      <th>Tenure (months)</th>\n",
       "      <th>Gross</th>\n",
       "    </tr>\n",
       "  </thead>\n",
       "  <tbody>\n",
       "    <tr>\n",
       "      <th>0</th>\n",
       "      <td>0</td>\n",
       "      <td>25</td>\n",
       "      <td>Tech</td>\n",
       "      <td>7</td>\n",
       "      <td>7.5</td>\n",
       "      <td>7</td>\n",
       "      <td>74922</td>\n",
       "    </tr>\n",
       "    <tr>\n",
       "      <th>1</th>\n",
       "      <td>1</td>\n",
       "      <td>26</td>\n",
       "      <td>Operations</td>\n",
       "      <td>3</td>\n",
       "      <td>8.0</td>\n",
       "      <td>6</td>\n",
       "      <td>44375</td>\n",
       "    </tr>\n",
       "    <tr>\n",
       "      <th>2</th>\n",
       "      <td>0</td>\n",
       "      <td>24</td>\n",
       "      <td>Operations</td>\n",
       "      <td>3</td>\n",
       "      <td>7.0</td>\n",
       "      <td>8</td>\n",
       "      <td>82263</td>\n",
       "    </tr>\n",
       "    <tr>\n",
       "      <th>3</th>\n",
       "      <td>0</td>\n",
       "      <td>26</td>\n",
       "      <td>Operations</td>\n",
       "      <td>3</td>\n",
       "      <td>8.0</td>\n",
       "      <td>6</td>\n",
       "      <td>44375</td>\n",
       "    </tr>\n",
       "    <tr>\n",
       "      <th>4</th>\n",
       "      <td>0</td>\n",
       "      <td>29</td>\n",
       "      <td>Engineering</td>\n",
       "      <td>0</td>\n",
       "      <td>9.5</td>\n",
       "      <td>25</td>\n",
       "      <td>235405</td>\n",
       "    </tr>\n",
       "    <tr>\n",
       "      <th>...</th>\n",
       "      <td>...</td>\n",
       "      <td>...</td>\n",
       "      <td>...</td>\n",
       "      <td>...</td>\n",
       "      <td>...</td>\n",
       "      <td>...</td>\n",
       "      <td>...</td>\n",
       "    </tr>\n",
       "    <tr>\n",
       "      <th>1797</th>\n",
       "      <td>0</td>\n",
       "      <td>29</td>\n",
       "      <td>Other</td>\n",
       "      <td>4</td>\n",
       "      <td>9.5</td>\n",
       "      <td>34</td>\n",
       "      <td>88934</td>\n",
       "    </tr>\n",
       "    <tr>\n",
       "      <th>1798</th>\n",
       "      <td>0</td>\n",
       "      <td>27</td>\n",
       "      <td>Engineering</td>\n",
       "      <td>0</td>\n",
       "      <td>8.5</td>\n",
       "      <td>33</td>\n",
       "      <td>133224</td>\n",
       "    </tr>\n",
       "    <tr>\n",
       "      <th>1799</th>\n",
       "      <td>0</td>\n",
       "      <td>29</td>\n",
       "      <td>Operations</td>\n",
       "      <td>3</td>\n",
       "      <td>9.5</td>\n",
       "      <td>15</td>\n",
       "      <td>72547</td>\n",
       "    </tr>\n",
       "    <tr>\n",
       "      <th>1800</th>\n",
       "      <td>0</td>\n",
       "      <td>47</td>\n",
       "      <td>Other</td>\n",
       "      <td>4</td>\n",
       "      <td>18.5</td>\n",
       "      <td>30</td>\n",
       "      <td>227176</td>\n",
       "    </tr>\n",
       "    <tr>\n",
       "      <th>1801</th>\n",
       "      <td>0</td>\n",
       "      <td>27</td>\n",
       "      <td>Finance</td>\n",
       "      <td>1</td>\n",
       "      <td>8.5</td>\n",
       "      <td>29</td>\n",
       "      <td>114641</td>\n",
       "    </tr>\n",
       "  </tbody>\n",
       "</table>\n",
       "<p>1802 rows × 7 columns</p>\n",
       "</div>"
      ],
      "text/plain": [
       "      Gender  Age   Department  Department_code  Years_exp  Tenure (months)  \\\n",
       "0          0   25         Tech                7        7.5                7   \n",
       "1          1   26   Operations                3        8.0                6   \n",
       "2          0   24   Operations                3        7.0                8   \n",
       "3          0   26   Operations                3        8.0                6   \n",
       "4          0   29  Engineering                0        9.5               25   \n",
       "...      ...  ...          ...              ...        ...              ...   \n",
       "1797       0   29        Other                4        9.5               34   \n",
       "1798       0   27  Engineering                0        8.5               33   \n",
       "1799       0   29   Operations                3        9.5               15   \n",
       "1800       0   47        Other                4       18.5               30   \n",
       "1801       0   27      Finance                1        8.5               29   \n",
       "\n",
       "       Gross  \n",
       "0      74922  \n",
       "1      44375  \n",
       "2      82263  \n",
       "3      44375  \n",
       "4     235405  \n",
       "...      ...  \n",
       "1797   88934  \n",
       "1798  133224  \n",
       "1799   72547  \n",
       "1800  227176  \n",
       "1801  114641  \n",
       "\n",
       "[1802 rows x 7 columns]"
      ]
     },
     "execution_count": 2,
     "metadata": {},
     "output_type": "execute_result"
    }
   ],
   "source": [
    "salarios = pd.read_csv('datos/salarios.csv')\n",
    "salarios"
   ]
  },
  {
   "cell_type": "code",
   "execution_count": 3,
   "id": "a4a1c6b2",
   "metadata": {},
   "outputs": [
    {
     "data": {
      "text/plain": [
       "(1802, 7)"
      ]
     },
     "execution_count": 3,
     "metadata": {},
     "output_type": "execute_result"
    }
   ],
   "source": [
    "salarios.shape"
   ]
  },
  {
   "cell_type": "code",
   "execution_count": 4,
   "id": "36e28a4b",
   "metadata": {},
   "outputs": [
    {
     "data": {
      "text/plain": [
       "Index(['Gender', 'Age', 'Department', 'Department_code', 'Years_exp',\n",
       "       'Tenure (months)', 'Gross'],\n",
       "      dtype='object')"
      ]
     },
     "execution_count": 4,
     "metadata": {},
     "output_type": "execute_result"
    }
   ],
   "source": [
    "salarios.columns"
   ]
  },
  {
   "cell_type": "code",
   "execution_count": 5,
   "id": "f833f410",
   "metadata": {},
   "outputs": [
    {
     "data": {
      "text/html": [
       "<div>\n",
       "<style scoped>\n",
       "    .dataframe tbody tr th:only-of-type {\n",
       "        vertical-align: middle;\n",
       "    }\n",
       "\n",
       "    .dataframe tbody tr th {\n",
       "        vertical-align: top;\n",
       "    }\n",
       "\n",
       "    .dataframe thead th {\n",
       "        text-align: right;\n",
       "    }\n",
       "</style>\n",
       "<table border=\"1\" class=\"dataframe\">\n",
       "  <thead>\n",
       "    <tr style=\"text-align: right;\">\n",
       "      <th></th>\n",
       "      <th>Gender</th>\n",
       "      <th>Age</th>\n",
       "      <th>Department_code</th>\n",
       "      <th>Years_exp</th>\n",
       "      <th>Tenure (months)</th>\n",
       "      <th>Gross</th>\n",
       "    </tr>\n",
       "  </thead>\n",
       "  <tbody>\n",
       "    <tr>\n",
       "      <th>count</th>\n",
       "      <td>1802.0</td>\n",
       "      <td>1802.0</td>\n",
       "      <td>1802.0</td>\n",
       "      <td>1802.0</td>\n",
       "      <td>1802.0</td>\n",
       "      <td>1802.0</td>\n",
       "    </tr>\n",
       "    <tr>\n",
       "      <th>mean</th>\n",
       "      <td>0.0</td>\n",
       "      <td>32.0</td>\n",
       "      <td>4.0</td>\n",
       "      <td>11.0</td>\n",
       "      <td>48.0</td>\n",
       "      <td>175827.0</td>\n",
       "    </tr>\n",
       "    <tr>\n",
       "      <th>std</th>\n",
       "      <td>0.0</td>\n",
       "      <td>5.0</td>\n",
       "      <td>2.0</td>\n",
       "      <td>3.0</td>\n",
       "      <td>36.0</td>\n",
       "      <td>105513.0</td>\n",
       "    </tr>\n",
       "    <tr>\n",
       "      <th>min</th>\n",
       "      <td>0.0</td>\n",
       "      <td>21.0</td>\n",
       "      <td>0.0</td>\n",
       "      <td>6.0</td>\n",
       "      <td>6.0</td>\n",
       "      <td>256.0</td>\n",
       "    </tr>\n",
       "    <tr>\n",
       "      <th>25%</th>\n",
       "      <td>0.0</td>\n",
       "      <td>28.0</td>\n",
       "      <td>2.0</td>\n",
       "      <td>9.0</td>\n",
       "      <td>23.0</td>\n",
       "      <td>104217.0</td>\n",
       "    </tr>\n",
       "    <tr>\n",
       "      <th>50%</th>\n",
       "      <td>0.0</td>\n",
       "      <td>31.0</td>\n",
       "      <td>4.0</td>\n",
       "      <td>10.0</td>\n",
       "      <td>39.0</td>\n",
       "      <td>150330.0</td>\n",
       "    </tr>\n",
       "    <tr>\n",
       "      <th>75%</th>\n",
       "      <td>1.0</td>\n",
       "      <td>35.0</td>\n",
       "      <td>7.0</td>\n",
       "      <td>12.0</td>\n",
       "      <td>66.0</td>\n",
       "      <td>221136.0</td>\n",
       "    </tr>\n",
       "    <tr>\n",
       "      <th>max</th>\n",
       "      <td>1.0</td>\n",
       "      <td>56.0</td>\n",
       "      <td>7.0</td>\n",
       "      <td>23.0</td>\n",
       "      <td>190.0</td>\n",
       "      <td>1024965.0</td>\n",
       "    </tr>\n",
       "  </tbody>\n",
       "</table>\n",
       "</div>"
      ],
      "text/plain": [
       "       Gender     Age  Department_code  Years_exp  Tenure (months)      Gross\n",
       "count  1802.0  1802.0           1802.0     1802.0           1802.0     1802.0\n",
       "mean      0.0    32.0              4.0       11.0             48.0   175827.0\n",
       "std       0.0     5.0              2.0        3.0             36.0   105513.0\n",
       "min       0.0    21.0              0.0        6.0              6.0      256.0\n",
       "25%       0.0    28.0              2.0        9.0             23.0   104217.0\n",
       "50%       0.0    31.0              4.0       10.0             39.0   150330.0\n",
       "75%       1.0    35.0              7.0       12.0             66.0   221136.0\n",
       "max       1.0    56.0              7.0       23.0            190.0  1024965.0"
      ]
     },
     "execution_count": 5,
     "metadata": {},
     "output_type": "execute_result"
    }
   ],
   "source": [
    "round(salarios.describe())"
   ]
  },
  {
   "cell_type": "code",
   "execution_count": 6,
   "id": "e574117c",
   "metadata": {},
   "outputs": [
    {
     "data": {
      "text/plain": [
       "Gender               int64\n",
       "Age                  int64\n",
       "Department          object\n",
       "Department_code      int64\n",
       "Years_exp          float64\n",
       "Tenure (months)      int64\n",
       "Gross                int64\n",
       "dtype: object"
      ]
     },
     "execution_count": 6,
     "metadata": {},
     "output_type": "execute_result"
    }
   ],
   "source": [
    "salarios.dtypes"
   ]
  },
  {
   "cell_type": "code",
   "execution_count": 7,
   "id": "89474092",
   "metadata": {},
   "outputs": [
    {
     "data": {
      "text/plain": [
       "<function seaborn.relational.scatterplot(*, x=None, y=None, hue=None, style=None, size=None, data=None, palette=None, hue_order=None, hue_norm=None, sizes=None, size_order=None, size_norm=None, markers=True, style_order=None, x_bins=None, y_bins=None, units=None, estimator=None, ci=95, n_boot=1000, alpha=None, x_jitter=None, y_jitter=None, legend='auto', ax=None, **kwargs)>"
      ]
     },
     "execution_count": 7,
     "metadata": {},
     "output_type": "execute_result"
    }
   ],
   "source": [
    "sns.scatterplot"
   ]
  },
  {
   "cell_type": "code",
   "execution_count": 8,
   "id": "bfc73734",
   "metadata": {},
   "outputs": [
    {
     "data": {
      "text/plain": [
       "<AxesSubplot:xlabel='Years_exp', ylabel='Gross'>"
      ]
     },
     "execution_count": 8,
     "metadata": {},
     "output_type": "execute_result"
    },
    {
     "data": {
      "image/png": "[encoded data removed]",
      "text/plain": [
       "<Figure size 432x288 with 1 Axes>"
      ]
     },
     "metadata": {
      "needs_background": "light"
     },
     "output_type": "display_data"
    }
   ],
   "source": [
    "sns.scatterplot(data=salarios, x ='Years_exp', y = 'Gross')"
   ]
  },
  {
   "cell_type": "code",
   "execution_count": 9,
   "id": "f57cb147",
   "metadata": {},
   "outputs": [
    {
     "data": {
      "text/plain": [
       "<AxesSubplot:xlabel='Years_exp', ylabel='Gross'>"
      ]
     },
     "execution_count": 9,
     "metadata": {},
     "output_type": "execute_result"
    },
    {
     "data": {
      "image/png": "[encoded data removed]",
      "text/plain": [
       "<Figure size 432x288 with 1 Axes>"
      ]
     },
     "metadata": {
      "needs_background": "light"
     },
     "output_type": "display_data"
    }
   ],
   "source": [
    "sns.scatterplot(data=salarios, x ='Years_exp', y = 'Gross', hue ='Gender')"
   ]
  },
  {
   "cell_type": "code",
   "execution_count": 10,
   "id": "faebdb25",
   "metadata": {},
   "outputs": [
    {
     "data": {
      "text/plain": [
       "<AxesSubplot:xlabel='Department_code', ylabel='count'>"
      ]
     },
     "execution_count": 10,
     "metadata": {},
     "output_type": "execute_result"
    },
    {
     "data": {
      "image/png": "[encoded data removed]",
      "text/plain": [
       "<Figure size 432x288 with 1 Axes>"
      ]
     },
     "metadata": {
      "needs_background": "light"
     },
     "output_type": "display_data"
    }
   ],
   "source": [
    "sns.countplot(data=salarios, x ='Department_code', )"
   ]
  },
  {
   "cell_type": "code",
   "execution_count": 11,
   "id": "1d60ec7b",
   "metadata": {},
   "outputs": [
    {
     "data": {
      "text/plain": [
       "Gender               int64\n",
       "Age                  int64\n",
       "Department          object\n",
       "Department_code      int64\n",
       "Years_exp          float64\n",
       "Tenure (months)      int64\n",
       "Gross                int64\n",
       "dtype: object"
      ]
     },
     "execution_count": 11,
     "metadata": {},
     "output_type": "execute_result"
    }
   ],
   "source": [
    "salarios.dtypes\n"
   ]
  },
  {
   "cell_type": "code",
   "execution_count": 12,
   "id": "00da5228",
   "metadata": {},
   "outputs": [
    {
     "data": {
      "text/html": [
       "<div>\n",
       "<style scoped>\n",
       "    .dataframe tbody tr th:only-of-type {\n",
       "        vertical-align: middle;\n",
       "    }\n",
       "\n",
       "    .dataframe tbody tr th {\n",
       "        vertical-align: top;\n",
       "    }\n",
       "\n",
       "    .dataframe thead th {\n",
       "        text-align: right;\n",
       "    }\n",
       "</style>\n",
       "<table border=\"1\" class=\"dataframe\">\n",
       "  <thead>\n",
       "    <tr style=\"text-align: right;\">\n",
       "      <th></th>\n",
       "      <th>Gender</th>\n",
       "      <th>Age</th>\n",
       "      <th>Department_code</th>\n",
       "      <th>Years_exp</th>\n",
       "      <th>Tenure (months)</th>\n",
       "    </tr>\n",
       "  </thead>\n",
       "  <tbody>\n",
       "    <tr>\n",
       "      <th>0</th>\n",
       "      <td>0</td>\n",
       "      <td>25</td>\n",
       "      <td>7</td>\n",
       "      <td>7.5</td>\n",
       "      <td>7</td>\n",
       "    </tr>\n",
       "    <tr>\n",
       "      <th>1</th>\n",
       "      <td>1</td>\n",
       "      <td>26</td>\n",
       "      <td>3</td>\n",
       "      <td>8.0</td>\n",
       "      <td>6</td>\n",
       "    </tr>\n",
       "    <tr>\n",
       "      <th>2</th>\n",
       "      <td>0</td>\n",
       "      <td>24</td>\n",
       "      <td>3</td>\n",
       "      <td>7.0</td>\n",
       "      <td>8</td>\n",
       "    </tr>\n",
       "    <tr>\n",
       "      <th>3</th>\n",
       "      <td>0</td>\n",
       "      <td>26</td>\n",
       "      <td>3</td>\n",
       "      <td>8.0</td>\n",
       "      <td>6</td>\n",
       "    </tr>\n",
       "    <tr>\n",
       "      <th>4</th>\n",
       "      <td>0</td>\n",
       "      <td>29</td>\n",
       "      <td>0</td>\n",
       "      <td>9.5</td>\n",
       "      <td>25</td>\n",
       "    </tr>\n",
       "    <tr>\n",
       "      <th>...</th>\n",
       "      <td>...</td>\n",
       "      <td>...</td>\n",
       "      <td>...</td>\n",
       "      <td>...</td>\n",
       "      <td>...</td>\n",
       "    </tr>\n",
       "    <tr>\n",
       "      <th>1797</th>\n",
       "      <td>0</td>\n",
       "      <td>29</td>\n",
       "      <td>4</td>\n",
       "      <td>9.5</td>\n",
       "      <td>34</td>\n",
       "    </tr>\n",
       "    <tr>\n",
       "      <th>1798</th>\n",
       "      <td>0</td>\n",
       "      <td>27</td>\n",
       "      <td>0</td>\n",
       "      <td>8.5</td>\n",
       "      <td>33</td>\n",
       "    </tr>\n",
       "    <tr>\n",
       "      <th>1799</th>\n",
       "      <td>0</td>\n",
       "      <td>29</td>\n",
       "      <td>3</td>\n",
       "      <td>9.5</td>\n",
       "      <td>15</td>\n",
       "    </tr>\n",
       "    <tr>\n",
       "      <th>1800</th>\n",
       "      <td>0</td>\n",
       "      <td>47</td>\n",
       "      <td>4</td>\n",
       "      <td>18.5</td>\n",
       "      <td>30</td>\n",
       "    </tr>\n",
       "    <tr>\n",
       "      <th>1801</th>\n",
       "      <td>0</td>\n",
       "      <td>27</td>\n",
       "      <td>1</td>\n",
       "      <td>8.5</td>\n",
       "      <td>29</td>\n",
       "    </tr>\n",
       "  </tbody>\n",
       "</table>\n",
       "<p>1802 rows × 5 columns</p>\n",
       "</div>"
      ],
      "text/plain": [
       "      Gender  Age  Department_code  Years_exp  Tenure (months)\n",
       "0          0   25                7        7.5                7\n",
       "1          1   26                3        8.0                6\n",
       "2          0   24                3        7.0                8\n",
       "3          0   26                3        8.0                6\n",
       "4          0   29                0        9.5               25\n",
       "...      ...  ...              ...        ...              ...\n",
       "1797       0   29                4        9.5               34\n",
       "1798       0   27                0        8.5               33\n",
       "1799       0   29                3        9.5               15\n",
       "1800       0   47                4       18.5               30\n",
       "1801       0   27                1        8.5               29\n",
       "\n",
       "[1802 rows x 5 columns]"
      ]
     },
     "execution_count": 12,
     "metadata": {},
     "output_type": "execute_result"
    }
   ],
   "source": [
    "fichas = salarios [[\"Gender\",\"Age\",\"Department_code\",\"Years_exp\",\"Tenure (months)\"]]\n",
    "fichas"
   ]
  },
  {
   "cell_type": "code",
   "execution_count": 13,
   "id": "ac444faa",
   "metadata": {},
   "outputs": [
    {
     "data": {
      "text/html": [
       "<div>\n",
       "<style scoped>\n",
       "    .dataframe tbody tr th:only-of-type {\n",
       "        vertical-align: middle;\n",
       "    }\n",
       "\n",
       "    .dataframe tbody tr th {\n",
       "        vertical-align: top;\n",
       "    }\n",
       "\n",
       "    .dataframe thead th {\n",
       "        text-align: right;\n",
       "    }\n",
       "</style>\n",
       "<table border=\"1\" class=\"dataframe\">\n",
       "  <thead>\n",
       "    <tr style=\"text-align: right;\">\n",
       "      <th></th>\n",
       "      <th>Gender</th>\n",
       "      <th>Age</th>\n",
       "      <th>Department_code</th>\n",
       "      <th>Years_exp</th>\n",
       "      <th>Tenure (months)</th>\n",
       "    </tr>\n",
       "  </thead>\n",
       "  <tbody>\n",
       "    <tr>\n",
       "      <th>0</th>\n",
       "      <td>0</td>\n",
       "      <td>25</td>\n",
       "      <td>7</td>\n",
       "      <td>7.5</td>\n",
       "      <td>7</td>\n",
       "    </tr>\n",
       "    <tr>\n",
       "      <th>1</th>\n",
       "      <td>1</td>\n",
       "      <td>26</td>\n",
       "      <td>3</td>\n",
       "      <td>8.0</td>\n",
       "      <td>6</td>\n",
       "    </tr>\n",
       "    <tr>\n",
       "      <th>2</th>\n",
       "      <td>0</td>\n",
       "      <td>24</td>\n",
       "      <td>3</td>\n",
       "      <td>7.0</td>\n",
       "      <td>8</td>\n",
       "    </tr>\n",
       "    <tr>\n",
       "      <th>3</th>\n",
       "      <td>0</td>\n",
       "      <td>26</td>\n",
       "      <td>3</td>\n",
       "      <td>8.0</td>\n",
       "      <td>6</td>\n",
       "    </tr>\n",
       "    <tr>\n",
       "      <th>4</th>\n",
       "      <td>0</td>\n",
       "      <td>29</td>\n",
       "      <td>0</td>\n",
       "      <td>9.5</td>\n",
       "      <td>25</td>\n",
       "    </tr>\n",
       "    <tr>\n",
       "      <th>...</th>\n",
       "      <td>...</td>\n",
       "      <td>...</td>\n",
       "      <td>...</td>\n",
       "      <td>...</td>\n",
       "      <td>...</td>\n",
       "    </tr>\n",
       "    <tr>\n",
       "      <th>1797</th>\n",
       "      <td>0</td>\n",
       "      <td>29</td>\n",
       "      <td>4</td>\n",
       "      <td>9.5</td>\n",
       "      <td>34</td>\n",
       "    </tr>\n",
       "    <tr>\n",
       "      <th>1798</th>\n",
       "      <td>0</td>\n",
       "      <td>27</td>\n",
       "      <td>0</td>\n",
       "      <td>8.5</td>\n",
       "      <td>33</td>\n",
       "    </tr>\n",
       "    <tr>\n",
       "      <th>1799</th>\n",
       "      <td>0</td>\n",
       "      <td>29</td>\n",
       "      <td>3</td>\n",
       "      <td>9.5</td>\n",
       "      <td>15</td>\n",
       "    </tr>\n",
       "    <tr>\n",
       "      <th>1800</th>\n",
       "      <td>0</td>\n",
       "      <td>47</td>\n",
       "      <td>4</td>\n",
       "      <td>18.5</td>\n",
       "      <td>30</td>\n",
       "    </tr>\n",
       "    <tr>\n",
       "      <th>1801</th>\n",
       "      <td>0</td>\n",
       "      <td>27</td>\n",
       "      <td>1</td>\n",
       "      <td>8.5</td>\n",
       "      <td>29</td>\n",
       "    </tr>\n",
       "  </tbody>\n",
       "</table>\n",
       "<p>1802 rows × 5 columns</p>\n",
       "</div>"
      ],
      "text/plain": [
       "      Gender  Age  Department_code  Years_exp  Tenure (months)\n",
       "0          0   25                7        7.5                7\n",
       "1          1   26                3        8.0                6\n",
       "2          0   24                3        7.0                8\n",
       "3          0   26                3        8.0                6\n",
       "4          0   29                0        9.5               25\n",
       "...      ...  ...              ...        ...              ...\n",
       "1797       0   29                4        9.5               34\n",
       "1798       0   27                0        8.5               33\n",
       "1799       0   29                3        9.5               15\n",
       "1800       0   47                4       18.5               30\n",
       "1801       0   27                1        8.5               29\n",
       "\n",
       "[1802 rows x 5 columns]"
      ]
     },
     "execution_count": 13,
     "metadata": {},
     "output_type": "execute_result"
    }
   ],
   "source": [
    "fichas_1= salarios.drop([\"Department\",\"Gross\"], axis = \"columns\")\n",
    "fichas_1"
   ]
  },
  {
   "cell_type": "code",
   "execution_count": 14,
   "id": "d439d0f5",
   "metadata": {},
   "outputs": [
    {
     "data": {
      "text/html": [
       "<div>\n",
       "<style scoped>\n",
       "    .dataframe tbody tr th:only-of-type {\n",
       "        vertical-align: middle;\n",
       "    }\n",
       "\n",
       "    .dataframe tbody tr th {\n",
       "        vertical-align: top;\n",
       "    }\n",
       "\n",
       "    .dataframe thead th {\n",
       "        text-align: right;\n",
       "    }\n",
       "</style>\n",
       "<table border=\"1\" class=\"dataframe\">\n",
       "  <thead>\n",
       "    <tr style=\"text-align: right;\">\n",
       "      <th></th>\n",
       "      <th>Gender</th>\n",
       "      <th>Age</th>\n",
       "      <th>Department</th>\n",
       "      <th>Department_code</th>\n",
       "      <th>Years_exp</th>\n",
       "      <th>Tenure (months)</th>\n",
       "      <th>Gross</th>\n",
       "    </tr>\n",
       "  </thead>\n",
       "  <tbody>\n",
       "    <tr>\n",
       "      <th>0</th>\n",
       "      <td>0</td>\n",
       "      <td>25</td>\n",
       "      <td>Tech</td>\n",
       "      <td>7</td>\n",
       "      <td>7.5</td>\n",
       "      <td>7</td>\n",
       "      <td>74922</td>\n",
       "    </tr>\n",
       "    <tr>\n",
       "      <th>1</th>\n",
       "      <td>1</td>\n",
       "      <td>26</td>\n",
       "      <td>Operations</td>\n",
       "      <td>3</td>\n",
       "      <td>8.0</td>\n",
       "      <td>6</td>\n",
       "      <td>44375</td>\n",
       "    </tr>\n",
       "    <tr>\n",
       "      <th>2</th>\n",
       "      <td>0</td>\n",
       "      <td>24</td>\n",
       "      <td>Operations</td>\n",
       "      <td>3</td>\n",
       "      <td>7.0</td>\n",
       "      <td>8</td>\n",
       "      <td>82263</td>\n",
       "    </tr>\n",
       "    <tr>\n",
       "      <th>3</th>\n",
       "      <td>0</td>\n",
       "      <td>26</td>\n",
       "      <td>Operations</td>\n",
       "      <td>3</td>\n",
       "      <td>8.0</td>\n",
       "      <td>6</td>\n",
       "      <td>44375</td>\n",
       "    </tr>\n",
       "    <tr>\n",
       "      <th>4</th>\n",
       "      <td>0</td>\n",
       "      <td>29</td>\n",
       "      <td>Engineering</td>\n",
       "      <td>0</td>\n",
       "      <td>9.5</td>\n",
       "      <td>25</td>\n",
       "      <td>235405</td>\n",
       "    </tr>\n",
       "    <tr>\n",
       "      <th>...</th>\n",
       "      <td>...</td>\n",
       "      <td>...</td>\n",
       "      <td>...</td>\n",
       "      <td>...</td>\n",
       "      <td>...</td>\n",
       "      <td>...</td>\n",
       "      <td>...</td>\n",
       "    </tr>\n",
       "    <tr>\n",
       "      <th>1797</th>\n",
       "      <td>0</td>\n",
       "      <td>29</td>\n",
       "      <td>Other</td>\n",
       "      <td>4</td>\n",
       "      <td>9.5</td>\n",
       "      <td>34</td>\n",
       "      <td>88934</td>\n",
       "    </tr>\n",
       "    <tr>\n",
       "      <th>1798</th>\n",
       "      <td>0</td>\n",
       "      <td>27</td>\n",
       "      <td>Engineering</td>\n",
       "      <td>0</td>\n",
       "      <td>8.5</td>\n",
       "      <td>33</td>\n",
       "      <td>133224</td>\n",
       "    </tr>\n",
       "    <tr>\n",
       "      <th>1799</th>\n",
       "      <td>0</td>\n",
       "      <td>29</td>\n",
       "      <td>Operations</td>\n",
       "      <td>3</td>\n",
       "      <td>9.5</td>\n",
       "      <td>15</td>\n",
       "      <td>72547</td>\n",
       "    </tr>\n",
       "    <tr>\n",
       "      <th>1800</th>\n",
       "      <td>0</td>\n",
       "      <td>47</td>\n",
       "      <td>Other</td>\n",
       "      <td>4</td>\n",
       "      <td>18.5</td>\n",
       "      <td>30</td>\n",
       "      <td>227176</td>\n",
       "    </tr>\n",
       "    <tr>\n",
       "      <th>1801</th>\n",
       "      <td>0</td>\n",
       "      <td>27</td>\n",
       "      <td>Finance</td>\n",
       "      <td>1</td>\n",
       "      <td>8.5</td>\n",
       "      <td>29</td>\n",
       "      <td>114641</td>\n",
       "    </tr>\n",
       "  </tbody>\n",
       "</table>\n",
       "<p>1802 rows × 7 columns</p>\n",
       "</div>"
      ],
      "text/plain": [
       "      Gender  Age   Department  Department_code  Years_exp  Tenure (months)  \\\n",
       "0          0   25         Tech                7        7.5                7   \n",
       "1          1   26   Operations                3        8.0                6   \n",
       "2          0   24   Operations                3        7.0                8   \n",
       "3          0   26   Operations                3        8.0                6   \n",
       "4          0   29  Engineering                0        9.5               25   \n",
       "...      ...  ...          ...              ...        ...              ...   \n",
       "1797       0   29        Other                4        9.5               34   \n",
       "1798       0   27  Engineering                0        8.5               33   \n",
       "1799       0   29   Operations                3        9.5               15   \n",
       "1800       0   47        Other                4       18.5               30   \n",
       "1801       0   27      Finance                1        8.5               29   \n",
       "\n",
       "       Gross  \n",
       "0      74922  \n",
       "1      44375  \n",
       "2      82263  \n",
       "3      44375  \n",
       "4     235405  \n",
       "...      ...  \n",
       "1797   88934  \n",
       "1798  133224  \n",
       "1799   72547  \n",
       "1800  227176  \n",
       "1801  114641  \n",
       "\n",
       "[1802 rows x 7 columns]"
      ]
     },
     "execution_count": 14,
     "metadata": {},
     "output_type": "execute_result"
    }
   ],
   "source": [
    "salarios"
   ]
  },
  {
   "cell_type": "code",
   "execution_count": 15,
   "id": "02906509",
   "metadata": {},
   "outputs": [
    {
     "data": {
      "text/plain": [
       "0        74922\n",
       "1        44375\n",
       "2        82263\n",
       "3        44375\n",
       "4       235405\n",
       "         ...  \n",
       "1797     88934\n",
       "1798    133224\n",
       "1799     72547\n",
       "1800    227176\n",
       "1801    114641\n",
       "Name: Gross, Length: 1802, dtype: int64"
      ]
     },
     "execution_count": 15,
     "metadata": {},
     "output_type": "execute_result"
    }
   ],
   "source": [
    "target =salarios[\"Gross\"]\n",
    "target"
   ]
  },
  {
   "cell_type": "code",
   "execution_count": 16,
   "id": "57c57527",
   "metadata": {},
   "outputs": [],
   "source": [
    "target =salarios[\"Gross\"]\n",
    "features= salarios.drop([\"Department\",\"Gross\"], axis = \"columns\")"
   ]
  },
  {
   "cell_type": "code",
   "execution_count": 17,
   "id": "00236d0b",
   "metadata": {},
   "outputs": [],
   "source": [
    "from sklearn.linear_model import LinearRegression"
   ]
  },
  {
   "cell_type": "code",
   "execution_count": 18,
   "id": "bdf2485e",
   "metadata": {},
   "outputs": [],
   "source": [
    "model = LinearRegression()"
   ]
  },
  {
   "cell_type": "code",
   "execution_count": 19,
   "id": "1c515ca2",
   "metadata": {},
   "outputs": [
    {
     "data": {
      "text/plain": [
       "LinearRegression()"
      ]
     },
     "execution_count": 19,
     "metadata": {},
     "output_type": "execute_result"
    }
   ],
   "source": [
    "model.fit(features, target)"
   ]
  },
  {
   "cell_type": "code",
   "execution_count": 20,
   "id": "007345c7",
   "metadata": {},
   "outputs": [
    {
     "data": {
      "text/plain": [
       "0.43754799942321343"
      ]
     },
     "execution_count": 20,
     "metadata": {},
     "output_type": "execute_result"
    }
   ],
   "source": [
    "model.score(features, target)"
   ]
  },
  {
   "cell_type": "code",
   "execution_count": 21,
   "id": "ad5c17b7",
   "metadata": {},
   "outputs": [
    {
     "data": {
      "text/plain": [
       "Index(['Gender', 'Age', 'Department_code', 'Years_exp', 'Tenure (months)'], dtype='object')"
      ]
     },
     "execution_count": 21,
     "metadata": {},
     "output_type": "execute_result"
    }
   ],
   "source": [
    "features.columns"
   ]
  },
  {
   "cell_type": "code",
   "execution_count": 22,
   "id": "93a87f5e",
   "metadata": {},
   "outputs": [
    {
     "data": {
      "text/plain": [
       "array([35044.82223843])"
      ]
     },
     "execution_count": 22,
     "metadata": {},
     "output_type": "execute_result"
    }
   ],
   "source": [
    "hire =[[4,29,8,5.2,10]]\n",
    "model.predict(hire)"
   ]
  },
  {
   "cell_type": "code",
   "execution_count": 23,
   "id": "0521f098",
   "metadata": {},
   "outputs": [
    {
     "data": {
      "text/plain": [
       "array([101947.11607839,  79880.25175726,  80956.39769784, ...,\n",
       "       141870.63861254, 360971.60222869, 116988.44789035])"
      ]
     },
     "execution_count": 23,
     "metadata": {},
     "output_type": "execute_result"
    }
   ],
   "source": [
    "model.predict(features)"
   ]
  },
  {
   "cell_type": "code",
   "execution_count": 24,
   "id": "6633078d",
   "metadata": {},
   "outputs": [
    {
     "data": {
      "text/plain": [
       "array([-24245.70669339,   9467.18023663,   2351.48450104,   4733.59011832,\n",
       "          249.19491939])"
      ]
     },
     "execution_count": 24,
     "metadata": {},
     "output_type": "execute_result"
    }
   ],
   "source": [
    "model.coef_"
   ]
  },
  {
   "cell_type": "code",
   "execution_count": 25,
   "id": "2716404d",
   "metadata": {},
   "outputs": [
    {
     "data": {
      "text/html": [
       "<div>\n",
       "<style scoped>\n",
       "    .dataframe tbody tr th:only-of-type {\n",
       "        vertical-align: middle;\n",
       "    }\n",
       "\n",
       "    .dataframe tbody tr th {\n",
       "        vertical-align: top;\n",
       "    }\n",
       "\n",
       "    .dataframe thead th {\n",
       "        text-align: right;\n",
       "    }\n",
       "</style>\n",
       "<table border=\"1\" class=\"dataframe\">\n",
       "  <thead>\n",
       "    <tr style=\"text-align: right;\">\n",
       "      <th></th>\n",
       "      <th>0</th>\n",
       "    </tr>\n",
       "  </thead>\n",
       "  <tbody>\n",
       "    <tr>\n",
       "      <th>0</th>\n",
       "      <td>Gender</td>\n",
       "    </tr>\n",
       "    <tr>\n",
       "      <th>1</th>\n",
       "      <td>Age</td>\n",
       "    </tr>\n",
       "    <tr>\n",
       "      <th>2</th>\n",
       "      <td>Department_code</td>\n",
       "    </tr>\n",
       "    <tr>\n",
       "      <th>3</th>\n",
       "      <td>Years_exp</td>\n",
       "    </tr>\n",
       "    <tr>\n",
       "      <th>4</th>\n",
       "      <td>Tenure (months)</td>\n",
       "    </tr>\n",
       "    <tr>\n",
       "      <th>0</th>\n",
       "      <td>-24245.706693</td>\n",
       "    </tr>\n",
       "    <tr>\n",
       "      <th>1</th>\n",
       "      <td>9467.180237</td>\n",
       "    </tr>\n",
       "    <tr>\n",
       "      <th>2</th>\n",
       "      <td>2351.484501</td>\n",
       "    </tr>\n",
       "    <tr>\n",
       "      <th>3</th>\n",
       "      <td>4733.590118</td>\n",
       "    </tr>\n",
       "    <tr>\n",
       "      <th>4</th>\n",
       "      <td>249.194919</td>\n",
       "    </tr>\n",
       "  </tbody>\n",
       "</table>\n",
       "</div>"
      ],
      "text/plain": [
       "                 0\n",
       "0           Gender\n",
       "1              Age\n",
       "2  Department_code\n",
       "3        Years_exp\n",
       "4  Tenure (months)\n",
       "0    -24245.706693\n",
       "1      9467.180237\n",
       "2      2351.484501\n",
       "3      4733.590118\n",
       "4       249.194919"
      ]
     },
     "execution_count": 25,
     "metadata": {},
     "output_type": "execute_result"
    }
   ],
   "source": [
    "pd.concat([pd.DataFrame(features.columns),pd.DataFrame(np.transpose(model.coef_))])"
   ]
  },
  {
   "cell_type": "code",
   "execution_count": 26,
   "id": "9e401fae",
   "metadata": {},
   "outputs": [
    {
     "data": {
      "text/plain": [
       "-188439.0716678152"
      ]
     },
     "execution_count": 26,
     "metadata": {},
     "output_type": "execute_result"
    }
   ],
   "source": [
    "model.intercept_"
   ]
  },
  {
   "cell_type": "code",
   "execution_count": null,
   "id": "d3719159",
   "metadata": {},
   "outputs": [],
   "source": []
  }
 ],
 "metadata": {
  "kernelspec": {
   "display_name": "Python 3",
   "language": "python",
   "name": "python3"
  },
  "language_info": {
   "codemirror_mode": {
    "name": "ipython",
    "version": 3
   },
   "file_extension": ".py",
   "mimetype": "text/x-python",
   "name": "python",
   "nbconvert_exporter": "python",
   "pygments_lexer": "ipython3",
   "version": "3.9.2"
  }
 },
 "nbformat": 4,
 "nbformat_minor": 5
}
